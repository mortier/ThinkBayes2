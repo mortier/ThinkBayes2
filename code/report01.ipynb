{
 "cells": [
  {
   "cell_type": "code",
   "execution_count": 1,
   "metadata": {
    "collapsed": false
   },
   "outputs": [],
   "source": [
    "from __future__ import print_function, division\n",
    "\n",
    "%matplotlib inline\n",
    "\n",
    "import warnings\n",
    "warnings.filterwarnings('ignore')\n",
    "\n",
    "import math\n",
    "import numpy as np\n",
    "from scipy.special import gamma\n",
    "\n",
    "from thinkbayes2 import Pmf, Suite\n",
    "import thinkplot"
   ]
  },
  {
   "cell_type": "markdown",
   "metadata": {},
   "source": [
    "# A professor at a large university tries strike up a conversation with a passing student. The professor realizes that the student is shy. Is the student more likely to be in the school of math and sciences, or the business school? \n"
   ]
  },
  {
   "cell_type": "markdown",
   "metadata": {},
   "source": [
    "Having asked several people around campus the most popular answer is that student is probably from the school of masth and science.\n",
    "\n",
    "First we need our priors:\n",
    "What do we beleve about meeting a random student's probability of being from the college of math and science?\n",
    "\n",
    "Well most buisness departments at large institutions are on the order of ten time larger than the math and science departments. So we have a 10% chance of finding a student from the school of math and sciences"
   ]
  },
  {
   "cell_type": "code",
   "execution_count": 2,
   "metadata": {
    "collapsed": false
   },
   "outputs": [
    {
     "name": "stdout",
     "output_type": "stream",
     "text": [
      "business 0.9\n",
      "math 0.1\n"
     ]
    }
   ],
   "source": [
    "\n",
    "buisormat = Pmf (['math','business'])\n",
    "buisormat['math'] = .1\n",
    "buisormat['business'] = .9\n",
    "buisormat.Print()"
   ]
  },
  {
   "cell_type": "markdown",
   "metadata": {},
   "source": [
    "Now we could either look up statistics that have varying defintions of the word shy to find our probability givin,\n",
    "or we can just make numbers up for the sake of argument. I choose to do the latter. \n",
    "I'll say that about half of all math and science students are shy, and only 10% of business studens are.  "
   ]
  },
  {
   "cell_type": "code",
   "execution_count": 3,
   "metadata": {
    "collapsed": false
   },
   "outputs": [
    {
     "name": "stdout",
     "output_type": "stream",
     "text": [
      "business 0.6428571428571429\n",
      "math 0.35714285714285715\n"
     ]
    }
   ],
   "source": [
    "buisormat['math'] *= .5\n",
    "buisormat['business'] *= .1\n",
    "buisormat.Normalize()\n",
    "buisormat.Print()"
   ]
  },
  {
   "cell_type": "markdown",
   "metadata": {},
   "source": [
    "So it is actually more likely that the shy student the professor meets is from the buisness school, in fact there is only a 36% chance that the student is from the school of math and science. "
   ]
  },
  {
   "cell_type": "markdown",
   "metadata": {
    "collapsed": true
   },
   "source": [
    "# Two people have left traces of their own blood at the scene of a crime.  A suspect, Oliver, is tested and found to have type O blood.  The blood groups of the two traces are found to be of type O (a common type in the local population, having frequency 60%) and of type AB (a rare type, with frequency 1%).  Do these data (the blood types found at the scene) give evidence in favour [sic] of the proposition that Oliver was one of the two people whose blood was found at the scene?"
   ]
  },
  {
   "cell_type": "markdown",
   "metadata": {},
   "source": [
    "So our two hypothoses are that A: Oliver's blood was the type O found at the scene and B: His was not the blood at the scene. The evidence E is that there are two blood samples o and AB:\n",
    "\n",
    "P(A|E) is simply .01 as Oliver's blood accounts for the O and the random probability of AB is .01\n",
    "\n",
    "P(B|E) is (.01)(.6)(2) = .012 : the two probabilities multiplied and then doubled as you have to draw twice from the population pool. \n",
    "\n",
    "Therefore, it is less likely (however slightly) that the blood is not Oliver's"
   ]
  },
  {
   "cell_type": "markdown",
   "metadata": {},
   "source": [
    "\n",
    "# Elvis Presley had a twin brother who died at birth.  What is the probability that Elvis was an identical twin?"
   ]
  },
  {
   "cell_type": "markdown",
   "metadata": {},
   "source": [
    "According to the Wikipedia article on twins:  \"Twins are estimated to be approximately 1.9% of the world population, with monozygotic twins making up 0.2% of the total---and 8% of all twins.\"\n",
    "\n",
    "Hypotheses:\n",
    "A: Evelis was an identical twin\n",
    "B: Elvis was a fraternal twin\n",
    "\n",
    "P(A) = .08\n",
    "P(B) = .92\n",
    "\n",
    "E: His BROTHER was male\n",
    "\n",
    "P(E|A) = 1 because if Elvis had an identical twin, it would be male.\n",
    "P(E|B) = .5 because a fraternal twin could be male or female. \n",
    "\n",
    "P(E) = P(A)P(E|A)+P(B)P(E|B) = .54\n",
    "\n",
    "P(A|E) = (.08)(1)/(.54) = .148\n",
    "\n",
    "It is 14.8% probable that Elvis's twin was identical."
   ]
  },
  {
   "cell_type": "markdown",
   "metadata": {},
   "source": [
    "# Given the following statistics, what is the probability that a woman, age 51, has cancer if she has a positive mammogram result?\n",
    "\n"
   ]
  },
  {
   "cell_type": "markdown",
   "metadata": {},
   "source": [
    "One percent of women over 50 have breast cancer.\n",
    "Ninety percent of women who have breast cancer test positive on mammograms.\n",
    "Eight percent of women will have false positives.\n",
    "\n",
    "Hypotheses:\n",
    "A: She has cancer\n",
    "B: She doesn't \n",
    "E: She tested positive\n",
    "\n",
    "P(A) = .01 because that's what the problem said\n",
    "P(B) = .99 because that's what the problem said\n",
    "\n",
    "P(E|A) = .9 because that's what the problem said\n",
    "P(E|B) = .1 because that's what the problem said\n",
    "\n",
    "P(E) = P(A)P(E|A)+P(B)P(E|B) = .108\n",
    "\n",
    "P(A|E) = (.01)(.9)/(.108) = .0833\n",
    "\n",
    "So the probability of a woman having cancer given a possitive test result is only 8.33% which, as a side note, is shocking to me.\n",
    "\n"
   ]
  },
  {
   "cell_type": "code",
   "execution_count": null,
   "metadata": {
    "collapsed": true
   },
   "outputs": [],
   "source": []
  },
  {
   "cell_type": "code",
   "execution_count": null,
   "metadata": {
    "collapsed": true
   },
   "outputs": [],
   "source": []
  }
 ],
 "metadata": {
  "anaconda-cloud": {},
  "kernelspec": {
   "display_name": "Python [Root]",
   "language": "python",
   "name": "Python [Root]"
  },
  "language_info": {
   "codemirror_mode": {
    "name": "ipython",
    "version": 3
   },
   "file_extension": ".py",
   "mimetype": "text/x-python",
   "name": "python",
   "nbconvert_exporter": "python",
   "pygments_lexer": "ipython3",
   "version": "3.5.2"
  }
 },
 "nbformat": 4,
 "nbformat_minor": 0
}
